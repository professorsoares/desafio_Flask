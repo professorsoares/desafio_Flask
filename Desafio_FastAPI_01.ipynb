{
 "cells": [
  {
   "cell_type": "code",
   "execution_count": 6,
   "id": "138dff37",
   "metadata": {},
   "outputs": [
    {
     "name": "stdout",
     "output_type": "stream",
     "text": [
      "Requirement already satisfied: nest_asyncio in d:\\programas\\anaconda3\\lib\\site-packages (1.5.1)\n"
     ]
    }
   ],
   "source": [
    "#!pip install fastapi pymongo uvicorn\n",
    "!pip install nest_asyncio\n"
   ]
  },
  {
   "cell_type": "code",
   "execution_count": 7,
   "id": "31d64b88",
   "metadata": {},
   "outputs": [
    {
     "name": "stderr",
     "output_type": "stream",
     "text": [
      "D:\\Programas\\anaconda3\\lib\\site-packages\\uvicorn\\protocols\\http\\h11_impl.py:74: RuntimeWarning: coroutine 'Server.serve' was never awaited\n",
      "  status_code: _get_status_phrase(status_code) for status_code in range(100, 600)\n",
      "RuntimeWarning: Enable tracemalloc to get the object allocation traceback\n",
      "INFO:     Started server process [12344]\n",
      "INFO:     Waiting for application startup.\n",
      "INFO:     Application startup complete.\n",
      "INFO:     Uvicorn running on http://0.0.0.0:8000 (Press CTRL+C to quit)\n"
     ]
    },
    {
     "name": "stdout",
     "output_type": "stream",
     "text": [
      "INFO:     127.0.0.1:56807 - \"GET / HTTP/1.1\" 404 Not Found\n",
      "INFO:     127.0.0.1:56807 - \"GET /favicon.ico HTTP/1.1\" 404 Not Found\n",
      "INFO:     127.0.0.1:56808 - \"GET /alunos HTTP/1.1\" 200 OK\n"
     ]
    },
    {
     "name": "stderr",
     "output_type": "stream",
     "text": [
      "INFO:     Shutting down\n",
      "INFO:     Waiting for application shutdown.\n",
      "INFO:     Application shutdown complete.\n",
      "INFO:     Finished server process [12344]\n"
     ]
    }
   ],
   "source": [
    "from fastapi import FastAPI\n",
    "from pymongo import MongoClient\n",
    "import uvicorn\n",
    "import nest_asyncio\n",
    "nest_asyncio.apply()\n",
    "\n",
    "\n",
    "app = FastAPI()\n",
    "client = MongoClient('mongodb://localhost:27017')\n",
    "db = client['nome_do_seu_banco']\n",
    "alunos_collection = db['alunos']\n",
    "\n",
    "\n",
    "@app.get('/alunos')\n",
    "def listar_alunos():\n",
    "    alunos = list(alunos_collection.find())\n",
    "    return alunos\n",
    "\n",
    "\n",
    "@app.get('/aluno/{cpf}')\n",
    "def obter_aluno(cpf: str):\n",
    "    aluno = alunos_collection.find_one({'cpf': cpf})\n",
    "    return aluno\n",
    "\n",
    "if __name__ == '__main__':\n",
    "    uvicorn.run(app, host='0.0.0.0', port=8000)\n"
   ]
  },
  {
   "cell_type": "code",
   "execution_count": null,
   "id": "7c9263c0",
   "metadata": {},
   "outputs": [],
   "source": [
    "uvicorn app:app --reload"
   ]
  }
 ],
 "metadata": {
  "kernelspec": {
   "display_name": "Python 3",
   "language": "python",
   "name": "python3"
  },
  "language_info": {
   "codemirror_mode": {
    "name": "ipython",
    "version": 3
   },
   "file_extension": ".py",
   "mimetype": "text/x-python",
   "name": "python",
   "nbconvert_exporter": "python",
   "pygments_lexer": "ipython3",
   "version": "3.8.8"
  }
 },
 "nbformat": 4,
 "nbformat_minor": 5
}
