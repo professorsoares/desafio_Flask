{
 "cells": [
  {
   "cell_type": "code",
   "execution_count": null,
   "id": "163141e7",
   "metadata": {},
   "outputs": [],
   "source": [
    "# No caso de arquivo \".py\"\n",
    "\n",
    "# mkdir meu_site\n",
    "# cd meu_site\n",
    "# python3 -m venv venv\n",
    "# source venv/bin/activate  # Linux/Mac\n",
    "# venv\\Scripts\\activate  # Windows\n"
   ]
  },
  {
   "cell_type": "code",
   "execution_count": null,
   "id": "8a253ede",
   "metadata": {},
   "outputs": [],
   "source": [
    "# !pip install flask pymongo\n"
   ]
  },
  {
   "cell_type": "code",
   "execution_count": 1,
   "id": "994e699d",
   "metadata": {},
   "outputs": [],
   "source": [
    "from flask import Flask, request, jsonify\n",
    "from pymongo import MongoClient\n",
    "\n",
    "app = Flask(__name__)\n",
    "client = MongoClient('mongodb://localhost:27017')\n",
    "db = client['meu_banco_de_dados']\n",
    "alunos_collection = db['alunos']\n"
   ]
  },
  {
   "cell_type": "code",
   "execution_count": 2,
   "id": "aa96f8fe",
   "metadata": {},
   "outputs": [],
   "source": [
    "\n",
    "#@app.route('/cadastro', methods=['POST'])\n",
    "#def cadastrar_aluno():\n",
    "#    data = request.form  # Use request.form instead of request.get_json()\n",
    "#    alunos_collection.insert_one(data)\n",
    "#    return jsonify({'message': 'Aluno cadastrado com sucesso!'})\n",
    "\n",
    "@app.route('/cadastro', methods=['POST'])\n",
    "def cadastrar_aluno():\n",
    "    nome = request.form.get('nome')\n",
    "    data_nascimento = request.form.get('data_nascimento')\n",
    "    cpf = request.form.get('cpf')\n",
    "    sexo = request.form.get('sexo')\n",
    "\n",
    "    aluno = {\n",
    "        'nome': nome,\n",
    "        'data_nascimento': data_nascimento,\n",
    "        'cpf': cpf,\n",
    "        'sexo': sexo\n",
    "    }\n",
    "\n",
    "    alunos_collection.insert_one(aluno)\n",
    "    return jsonify({'message': 'Aluno cadastrado com sucesso!'})\n"
   ]
  },
  {
   "cell_type": "code",
   "execution_count": 3,
   "id": "e73d2b4e",
   "metadata": {},
   "outputs": [],
   "source": [
    "@app.route('/alunos', methods=['GET'])\n",
    "def get_alunos():\n",
    "    alunos = list(alunos_collection.find({}, {'_id': 0}))\n",
    "    return jsonify(alunos)\n",
    "\n",
    "@app.route('/aluno/<string:cpf>', methods=['GET'])\n",
    "def get_aluno(cpf):\n",
    "    aluno = alunos_collection.find_one({'cpf': cpf}, {'_id': 0})\n",
    "    return jsonify(aluno)\n"
   ]
  },
  {
   "cell_type": "code",
   "execution_count": 4,
   "id": "7e16dab0",
   "metadata": {},
   "outputs": [],
   "source": [
    "@app.route('/', methods=['GET'])\n",
    "def home():\n",
    "    return \"\"\"\n",
    "        <!DOCTYPE html>\n",
    "        <html>\n",
    "        <head>\n",
    "            <title>Formulário de Cadastro</title>\n",
    "            <link rel=\"stylesheet\" href=\"https://cdn.jsdelivr.net/npm/bootstrap@4.1.3/dist/css/bootstrap.min.css\" integrity=\"sha384-MCw98/SFnGE8fJT3GXwEOngsV7Zt27NXFoaoApmYm81iuXoPkFOJwJ8ERdknLPMO\" crossorigin=\"anonymous\">\n",
    "            <script src=\"https://cdn.jsdelivr.net/npm/bootstrap@4.1.3/dist/js/bootstrap.min.js\" integrity=\"sha384-ChfqqxuZUCnJSK3+MXmPNIyE6ZbWh2IMqE241rYiqJxyMiZ6OW/JmZQ5stwEULTy\" crossorigin=\"anonymous\"></script>\n",
    "        </head>\n",
    "        <body>\n",
    "            <div class=\"container\">\n",
    "                <h1>Formulário de Cadastro</h1>\n",
    "                <form method=\"POST\" action=\"/cadastro\">\n",
    "                    <div class=\"mb-3\">\n",
    "                        <label for=\"nome\" class=\"form-label\">Nome:</label>\n",
    "                        <input type=\"text\" class=\"form-control\" id=\"nome\" name=\"nome\" required>\n",
    "                    </div>\n",
    "                    <div class=\"mb-3\">\n",
    "                        <label for=\"data_nascimento\" class=\"form-label\">Data de Nascimento:</label>\n",
    "                        <input type=\"date\" class=\"form-control\" id=\"data_nascimento\" name=\"data_nascimento\" required>\n",
    "                    </div>\n",
    "                    <div class=\"mb-3\">\n",
    "                        <label for=\"cpf\" class=\"form-label\">CPF:</label>\n",
    "                        <input type=\"text\" class=\"form-control\" id=\"cpf\" name=\"cpf\" required>\n",
    "                    </div>\n",
    "                    <div class=\"mb-3\">\n",
    "                        <label for=\"sexo\" class=\"form-label\">Sexo:</label>\n",
    "                        <select class=\"form-select\" id=\"sexo\" name=\"sexo\" required>\n",
    "                            <option value=\"Masculino\">Masculino</option>\n",
    "                            <option value=\"Feminino\">Feminino</option>\n",
    "                        </select>\n",
    "                    </div>\n",
    "                    <button type=\"submit\" class=\"btn btn-primary\">Cadastrar</button>\n",
    "                </form>\n",
    "            </div>\n",
    "        </body>\n",
    "        </html>\n",
    "    \"\"\"\n"
   ]
  },
  {
   "cell_type": "code",
   "execution_count": 5,
   "id": "dfc4e567",
   "metadata": {},
   "outputs": [
    {
     "name": "stdout",
     "output_type": "stream",
     "text": [
      " * Serving Flask app \"__main__\" (lazy loading)\n",
      " * Environment: production\n",
      "   WARNING: This is a development server. Do not use it in a production deployment.\n",
      "   Use a production WSGI server instead.\n",
      " * Debug mode: off\n"
     ]
    },
    {
     "name": "stderr",
     "output_type": "stream",
     "text": [
      " * Running on http://127.0.0.1:5000/ (Press CTRL+C to quit)\n",
      "127.0.0.1 - - [29/Jun/2023 20:23:47] \"\u001b[37mGET / HTTP/1.1\u001b[0m\" 200 -\n",
      "127.0.0.1 - - [29/Jun/2023 20:40:18] \"\u001b[37mGET /alunos HTTP/1.1\u001b[0m\" 200 -\n"
     ]
    }
   ],
   "source": [
    "if __name__ == '__main__':\n",
    "    app.run()"
   ]
  },
  {
   "cell_type": "code",
   "execution_count": null,
   "id": "0546c98d",
   "metadata": {},
   "outputs": [],
   "source": []
  }
 ],
 "metadata": {
  "kernelspec": {
   "display_name": "Python 3",
   "language": "python",
   "name": "python3"
  },
  "language_info": {
   "codemirror_mode": {
    "name": "ipython",
    "version": 3
   },
   "file_extension": ".py",
   "mimetype": "text/x-python",
   "name": "python",
   "nbconvert_exporter": "python",
   "pygments_lexer": "ipython3",
   "version": "3.8.8"
  }
 },
 "nbformat": 4,
 "nbformat_minor": 5
}
